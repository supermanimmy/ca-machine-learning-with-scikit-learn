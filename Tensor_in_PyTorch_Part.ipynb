{
  "nbformat": 4,
  "nbformat_minor": 0,
  "metadata": {
    "colab": {
      "name": "Tensor in PyTorch Part.ipynb",
      "provenance": [],
      "authorship_tag": "ABX9TyN1s30Elf+2M5aC381AgNFX",
      "include_colab_link": true
    },
    "kernelspec": {
      "name": "python3",
      "display_name": "Python 3"
    },
    "language_info": {
      "name": "python"
    }
  },
  "cells": [
    {
      "cell_type": "markdown",
      "metadata": {
        "id": "view-in-github",
        "colab_type": "text"
      },
      "source": [
        "<a href=\"https://colab.research.google.com/github/supermanimmy/ca-machine-learning-with-scikit-learn/blob/main/Tensor_in_PyTorch_Part.ipynb\" target=\"_parent\"><img src=\"https://colab.research.google.com/assets/colab-badge.svg\" alt=\"Open In Colab\"/></a>"
      ]
    },
    {
      "cell_type": "markdown",
      "source": [
        "# **Tensors in PyTorch- Part 2**"
      ],
      "metadata": {
        "id": "S7D2NRjS52fL"
      }
    },
    {
      "cell_type": "code",
      "execution_count": 2,
      "metadata": {
        "id": "jVjTmX-qwLyz"
      },
      "outputs": [],
      "source": [
        "import numpy as np\n",
        "numpy_data = np.random.rand(2,3)"
      ]
    },
    {
      "cell_type": "code",
      "source": [
        "numpy_data"
      ],
      "metadata": {
        "colab": {
          "base_uri": "https://localhost:8080/"
        },
        "id": "UWtXa6-39hnd",
        "outputId": "34159875-95e6-4530-efc1-5d3910566c33"
      },
      "execution_count": 3,
      "outputs": [
        {
          "output_type": "execute_result",
          "data": {
            "text/plain": [
              "array([[0.54548472, 0.76391999, 0.2176934 ],\n",
              "       [0.66409915, 0.36194424, 0.8628109 ]])"
            ]
          },
          "metadata": {},
          "execution_count": 3
        }
      ]
    },
    {
      "cell_type": "code",
      "source": [
        "import torch\n",
        "torch_numpy = torch.from_numpy(numpy_data)"
      ],
      "metadata": {
        "id": "heaLCB5N9mg0"
      },
      "execution_count": 4,
      "outputs": []
    },
    {
      "cell_type": "code",
      "source": [
        "torch_numpy"
      ],
      "metadata": {
        "colab": {
          "base_uri": "https://localhost:8080/"
        },
        "id": "1LXX_AXO-NM0",
        "outputId": "b6cd17a5-6cbc-41ca-e8ca-b44962b1284c"
      },
      "execution_count": 5,
      "outputs": [
        {
          "output_type": "execute_result",
          "data": {
            "text/plain": [
              "tensor([[0.5455, 0.7639, 0.2177],\n",
              "        [0.6641, 0.3619, 0.8628]], dtype=torch.float64)"
            ]
          },
          "metadata": {},
          "execution_count": 5
        }
      ]
    },
    {
      "cell_type": "code",
      "source": [
        "tensor_numpy_direct = torch.tensor(numpy_data)"
      ],
      "metadata": {
        "id": "M4lXf-Oa-C5U"
      },
      "execution_count": 6,
      "outputs": []
    },
    {
      "cell_type": "code",
      "source": [
        "tensor_numpy_direct"
      ],
      "metadata": {
        "colab": {
          "base_uri": "https://localhost:8080/"
        },
        "id": "QbafbMhV-H-c",
        "outputId": "ccfaad50-e48f-46c1-944d-619f618c3169"
      },
      "execution_count": 7,
      "outputs": [
        {
          "output_type": "execute_result",
          "data": {
            "text/plain": [
              "tensor([[0.5455, 0.7639, 0.2177],\n",
              "        [0.6641, 0.3619, 0.8628]], dtype=torch.float64)"
            ]
          },
          "metadata": {},
          "execution_count": 7
        }
      ]
    },
    {
      "cell_type": "markdown",
      "source": [
        "Moving tenser that's on GPU to simple numpy array, you will get a numpy array that is entirely on CPU, without the need for GPU"
      ],
      "metadata": {
        "id": "6Cgt7RgC_qWG"
      }
    },
    {
      "cell_type": "code",
      "source": [
        "tensor_numpy_direct.cpu().numpy()"
      ],
      "metadata": {
        "colab": {
          "base_uri": "https://localhost:8080/"
        },
        "id": "36wzoNU8-SSU",
        "outputId": "e1cc52a9-f5d3-4299-9f13-654402a31114"
      },
      "execution_count": 8,
      "outputs": [
        {
          "output_type": "execute_result",
          "data": {
            "text/plain": [
              "array([[0.54548472, 0.76391999, 0.2176934 ],\n",
              "       [0.66409915, 0.36194424, 0.8628109 ]])"
            ]
          },
          "metadata": {},
          "execution_count": 8
        }
      ]
    },
    {
      "cell_type": "markdown",
      "source": [
        "## Operations between tensors\n",
        "Being able to perform operations between tensors is important.\n",
        "We will first investigate concatenating two or more tensors"
      ],
      "metadata": {
        "id": "DYTtU_g2AsLj"
      }
    },
    {
      "cell_type": "code",
      "source": [
        "numpy_data = np.random.rand(2,3)"
      ],
      "metadata": {
        "id": "xFTHFcfn_guP"
      },
      "execution_count": 9,
      "outputs": []
    },
    {
      "cell_type": "code",
      "source": [
        "numpy_data"
      ],
      "metadata": {
        "colab": {
          "base_uri": "https://localhost:8080/"
        },
        "id": "EKeeXpZH-8pd",
        "outputId": "b5b9d156-cc9f-47e5-ca0f-bedb27140ab3"
      },
      "execution_count": 10,
      "outputs": [
        {
          "output_type": "execute_result",
          "data": {
            "text/plain": [
              "array([[0.3424276 , 0.14418737, 0.23896021],\n",
              "       [0.49348956, 0.16221229, 0.67623277]])"
            ]
          },
          "metadata": {},
          "execution_count": 10
        }
      ]
    },
    {
      "cell_type": "code",
      "source": [
        "my_tns2 = torch.tensor(numpy_data)"
      ],
      "metadata": {
        "id": "cPxRImLfBCmt"
      },
      "execution_count": 11,
      "outputs": []
    },
    {
      "cell_type": "code",
      "source": [
        "my_tns1 = torch_numpy"
      ],
      "metadata": {
        "id": "BwCGDoxoBGV9"
      },
      "execution_count": 12,
      "outputs": []
    },
    {
      "cell_type": "code",
      "source": [
        "my_tns1"
      ],
      "metadata": {
        "colab": {
          "base_uri": "https://localhost:8080/"
        },
        "id": "DrvQJlUrBM6H",
        "outputId": "3bdce1a3-b4eb-41cd-b9ee-2d100d29548f"
      },
      "execution_count": 13,
      "outputs": [
        {
          "output_type": "execute_result",
          "data": {
            "text/plain": [
              "tensor([[0.5455, 0.7639, 0.2177],\n",
              "        [0.6641, 0.3619, 0.8628]], dtype=torch.float64)"
            ]
          },
          "metadata": {},
          "execution_count": 13
        }
      ]
    },
    {
      "cell_type": "markdown",
      "source": [
        "### To concatenate, we use the cat method"
      ],
      "metadata": {
        "id": "2YP2IWJcBSoH"
      }
    },
    {
      "cell_type": "code",
      "source": [
        "torch.cat([my_tns1, my_tns2], dim=1) # set dim=1 to concate on columns, 0 for rows."
      ],
      "metadata": {
        "colab": {
          "base_uri": "https://localhost:8080/"
        },
        "id": "0kJ0zTq2BPMX",
        "outputId": "fb854526-18f6-4533-da3d-dd74bed6c67f"
      },
      "execution_count": 14,
      "outputs": [
        {
          "output_type": "execute_result",
          "data": {
            "text/plain": [
              "tensor([[0.5455, 0.7639, 0.2177, 0.3424, 0.1442, 0.2390],\n",
              "        [0.6641, 0.3619, 0.8628, 0.4935, 0.1622, 0.6762]], dtype=torch.float64)"
            ]
          },
          "metadata": {},
          "execution_count": 14
        }
      ]
    },
    {
      "cell_type": "markdown",
      "source": [
        "### Another operation is to clip, apply an upper and lower bound to generated data"
      ],
      "metadata": {
        "id": "p3BpKUBkCdKq"
      }
    },
    {
      "cell_type": "code",
      "source": [
        "my_tns2.clip(0.3, 0.7)"
      ],
      "metadata": {
        "colab": {
          "base_uri": "https://localhost:8080/"
        },
        "id": "VH2s-LyqBbQu",
        "outputId": "e1dc1834-16e7-4069-e74b-0cb8c9e7838d"
      },
      "execution_count": 15,
      "outputs": [
        {
          "output_type": "execute_result",
          "data": {
            "text/plain": [
              "tensor([[0.3424, 0.3000, 0.3000],\n",
              "        [0.4935, 0.3000, 0.6762]], dtype=torch.float64)"
            ]
          },
          "metadata": {},
          "execution_count": 15
        }
      ]
    },
    {
      "cell_type": "markdown",
      "source": [
        "### Element-wise multiplication\n",
        "Element-wise multiplication of two matrices is also called Hadamard product, and is done with the method mul."
      ],
      "metadata": {
        "id": "odeVnkvSCtfP"
      }
    },
    {
      "cell_type": "code",
      "source": [
        "my_tns1.mul(my_tns2) # rounds to 4 decimal places."
      ],
      "metadata": {
        "colab": {
          "base_uri": "https://localhost:8080/"
        },
        "id": "tieZL-iACn_t",
        "outputId": "62046e0f-6fc7-4c11-ea71-2ecd3ade16d0"
      },
      "execution_count": 16,
      "outputs": [
        {
          "output_type": "execute_result",
          "data": {
            "text/plain": [
              "tensor([[0.1868, 0.1101, 0.0520],\n",
              "        [0.3277, 0.0587, 0.5835]], dtype=torch.float64)"
            ]
          },
          "metadata": {},
          "execution_count": 16
        }
      ]
    },
    {
      "cell_type": "code",
      "source": [
        "my_tns1 * my_tns2 # same as the mul() method above"
      ],
      "metadata": {
        "colab": {
          "base_uri": "https://localhost:8080/"
        },
        "id": "c8JlOza3-RSM",
        "outputId": "d4b74087-1946-4c32-b265-73f11f4ce631"
      },
      "execution_count": 17,
      "outputs": [
        {
          "output_type": "execute_result",
          "data": {
            "text/plain": [
              "tensor([[0.1868, 0.1101, 0.0520],\n",
              "        [0.3277, 0.0587, 0.5835]], dtype=torch.float64)"
            ]
          },
          "metadata": {},
          "execution_count": 17
        }
      ]
    },
    {
      "cell_type": "code",
      "source": [
        "my_tns1.matmul(my_tns2.T) #doesn't work without Transpose here, 2x3 cannot be multiplied by 2x3 so we change it to 3x2"
      ],
      "metadata": {
        "colab": {
          "base_uri": "https://localhost:8080/"
        },
        "id": "M6VKKCWm-x-q",
        "outputId": "b6be781e-aac3-42d6-88cb-dae5a1b78596"
      },
      "execution_count": 19,
      "outputs": [
        {
          "output_type": "execute_result",
          "data": {
            "text/plain": [
              "tensor([[0.3490, 0.5403],\n",
              "        [0.4858, 0.9699]], dtype=torch.float64)"
            ]
          },
          "metadata": {},
          "execution_count": 19
        }
      ]
    },
    {
      "cell_type": "code",
      "source": [
        "my_tns1 @ my_tns2.T #same as using matmul() above"
      ],
      "metadata": {
        "colab": {
          "base_uri": "https://localhost:8080/"
        },
        "id": "kHo-cqkI_nbT",
        "outputId": "099dd617-8f62-45ed-b8eb-1843dff0fdda"
      },
      "execution_count": 22,
      "outputs": [
        {
          "output_type": "execute_result",
          "data": {
            "text/plain": [
              "tensor([[0.3490, 0.5403],\n",
              "        [0.4858, 0.9699]], dtype=torch.float64)"
            ]
          },
          "metadata": {},
          "execution_count": 22
        }
      ]
    },
    {
      "cell_type": "markdown",
      "source": [
        "#### Scalar Tensor"
      ],
      "metadata": {
        "id": "9pLpvT-MAOUO"
      }
    },
    {
      "cell_type": "code",
      "source": [
        "my_sum  = my_tns2.sum()"
      ],
      "metadata": {
        "id": "pZfLkSd1_2Jk"
      },
      "execution_count": 24,
      "outputs": []
    },
    {
      "cell_type": "code",
      "source": [
        "my_sum"
      ],
      "metadata": {
        "colab": {
          "base_uri": "https://localhost:8080/"
        },
        "id": "yy2Svf_QAi41",
        "outputId": "360860ef-46af-47a2-d4f6-e69e8696253d"
      },
      "execution_count": 25,
      "outputs": [
        {
          "output_type": "execute_result",
          "data": {
            "text/plain": [
              "tensor(2.0575, dtype=torch.float64)"
            ]
          },
          "metadata": {},
          "execution_count": 25
        }
      ]
    },
    {
      "cell_type": "code",
      "source": [
        "my_sum.item()"
      ],
      "metadata": {
        "colab": {
          "base_uri": "https://localhost:8080/"
        },
        "id": "LGJf-OOaAm7U",
        "outputId": "5690ebf0-a900-4e26-c3e5-45145ddef7b1"
      },
      "execution_count": 26,
      "outputs": [
        {
          "output_type": "execute_result",
          "data": {
            "text/plain": [
              "2.057509803831413"
            ]
          },
          "metadata": {},
          "execution_count": 26
        }
      ]
    },
    {
      "cell_type": "code",
      "source": [
        "type(my_sum), type(my_sum.item()) #if you don't want to work with tensors, use the item to turn it into python float"
      ],
      "metadata": {
        "colab": {
          "base_uri": "https://localhost:8080/"
        },
        "id": "tipdnIoZAq2d",
        "outputId": "58d6e66b-2830-4188-ffa2-30d903710b60"
      },
      "execution_count": 28,
      "outputs": [
        {
          "output_type": "execute_result",
          "data": {
            "text/plain": [
              "(torch.Tensor, float)"
            ]
          },
          "metadata": {},
          "execution_count": 28
        }
      ]
    },
    {
      "cell_type": "code",
      "source": [
        "matrix_A = torch.arange(20, dtype=torch.float32).reshape(5,4)"
      ],
      "metadata": {
        "id": "4YApFXBQAtYr"
      },
      "execution_count": 38,
      "outputs": []
    },
    {
      "cell_type": "code",
      "source": [
        "matrix_A"
      ],
      "metadata": {
        "colab": {
          "base_uri": "https://localhost:8080/"
        },
        "id": "DKanX5X3B-mN",
        "outputId": "b85713cf-4b88-4103-9576-ea62ecaf33e1"
      },
      "execution_count": 39,
      "outputs": [
        {
          "output_type": "execute_result",
          "data": {
            "text/plain": [
              "tensor([[ 0.,  1.,  2.,  3.],\n",
              "        [ 4.,  5.,  6.,  7.],\n",
              "        [ 8.,  9., 10., 11.],\n",
              "        [12., 13., 14., 15.],\n",
              "        [16., 17., 18., 19.]])"
            ]
          },
          "metadata": {},
          "execution_count": 39
        }
      ]
    },
    {
      "cell_type": "code",
      "source": [
        "matrix_B = matrix_A.clone()"
      ],
      "metadata": {
        "id": "qj2CPiqnCGnb"
      },
      "execution_count": 40,
      "outputs": []
    },
    {
      "cell_type": "code",
      "source": [
        "matrix_A + matrix_B"
      ],
      "metadata": {
        "colab": {
          "base_uri": "https://localhost:8080/"
        },
        "id": "QkeD0JTaCJ-r",
        "outputId": "161891d3-d4e0-4652-f95f-f45381371907"
      },
      "execution_count": 41,
      "outputs": [
        {
          "output_type": "execute_result",
          "data": {
            "text/plain": [
              "tensor([[ 0.,  2.,  4.,  6.],\n",
              "        [ 8., 10., 12., 14.],\n",
              "        [16., 18., 20., 22.],\n",
              "        [24., 26., 28., 30.],\n",
              "        [32., 34., 36., 38.]])"
            ]
          },
          "metadata": {},
          "execution_count": 41
        }
      ]
    },
    {
      "cell_type": "code",
      "source": [
        "matrix_B.type() # in pytorch you can't calculate the mean of integer types, we will go back and make matrix A dtype float in initialisation"
      ],
      "metadata": {
        "colab": {
          "base_uri": "https://localhost:8080/",
          "height": 35
        },
        "id": "85mAyXp7CNNd",
        "outputId": "58b662af-62fc-41da-9c06-85011f75c5b9"
      },
      "execution_count": 42,
      "outputs": [
        {
          "output_type": "execute_result",
          "data": {
            "application/vnd.google.colaboratory.intrinsic+json": {
              "type": "string"
            },
            "text/plain": [
              "'torch.FloatTensor'"
            ]
          },
          "metadata": {},
          "execution_count": 42
        }
      ]
    },
    {
      "cell_type": "code",
      "source": [
        "matrix_B.mean(dim=0), matrix_B.mean(dim=1)"
      ],
      "metadata": {
        "colab": {
          "base_uri": "https://localhost:8080/"
        },
        "id": "bBMHhjWOCRPb",
        "outputId": "13b91f9e-f319-4c71-a8fb-1a11e1642d9c"
      },
      "execution_count": 46,
      "outputs": [
        {
          "output_type": "execute_result",
          "data": {
            "text/plain": [
              "(tensor([ 8.,  9., 10., 11.]),\n",
              " tensor([ 1.5000,  5.5000,  9.5000, 13.5000, 17.5000]))"
            ]
          },
          "metadata": {},
          "execution_count": 46
        }
      ]
    },
    {
      "cell_type": "code",
      "source": [
        "matrix_B.sum(axis=0)/matrix_B.shape[0] # can obtain the same result as .mean() by using the sum and shape method"
      ],
      "metadata": {
        "colab": {
          "base_uri": "https://localhost:8080/"
        },
        "id": "iqQ55M45FBYU",
        "outputId": "b0691bb6-cdce-485a-e5a0-efb36679c5f1"
      },
      "execution_count": 48,
      "outputs": [
        {
          "output_type": "execute_result",
          "data": {
            "text/plain": [
              "tensor([ 8.,  9., 10., 11.])"
            ]
          },
          "metadata": {},
          "execution_count": 48
        }
      ]
    },
    {
      "cell_type": "code",
      "source": [
        ""
      ],
      "metadata": {
        "id": "qf0atQ1uFcCs"
      },
      "execution_count": null,
      "outputs": []
    }
  ]
}